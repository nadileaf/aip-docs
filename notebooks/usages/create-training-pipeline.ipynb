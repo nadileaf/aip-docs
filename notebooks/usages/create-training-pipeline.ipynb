{
 "cells": [
  {
   "cell_type": "markdown",
   "metadata": {
    "collapsed": false,
    "pycharm": {
     "name": "#%% md\n"
    }
   },
   "source": [
    "# 创建训练流水线\n",
    "\n",
    "## 导语\n",
    "\n",
    "此笔记旨在创建一个训练流水线，以便我们可以训练一个模型。"
   ]
  },
  {
   "cell_type": "code",
   "execution_count": null,
   "metadata": {
    "collapsed": false,
    "pycharm": {
     "name": "#%%\n"
    }
   },
   "outputs": [],
   "source": [
    "HOST = \"http://localhost:5002\"\n",
    "PROJECT_ID = \"tokyo-rain-42\"\n",
    "LOCATION = \"default\""
   ]
  },
  {
   "cell_type": "markdown",
   "metadata": {
    "collapsed": false,
    "pycharm": {
     "name": "#%% md\n"
    }
   },
   "source": [
    "## 编写训练代码\n"
   ]
  },
  {
   "cell_type": "code",
   "execution_count": 1,
   "metadata": {
    "collapsed": false,
    "pycharm": {
     "name": "#%%\n"
    }
   },
   "outputs": [],
   "source": [
    "! mkdir -p /tmp/aip/create-training-pipeline\n",
    "! touch /tmp/aip/create-training-pipeline/__init__.py"
   ]
  },
  {
   "cell_type": "markdown",
   "metadata": {
    "collapsed": false,
    "pycharm": {
     "name": "#%% md\n"
    }
   },
   "source": [
    "使用魔术命令 `%%writefile` 将训练代码写入 `/tmp/aip/create-train-pipeline/aip_task.py` 文件中。"
   ]
  },
  {
   "cell_type": "code",
   "execution_count": 2,
   "metadata": {
    "collapsed": false,
    "pycharm": {
     "name": "#%%\n"
    }
   },
   "outputs": [
    {
     "name": "stdout",
     "output_type": "stream",
     "text": [
      "Overwriting /tmp/aip/create-training-pipeline/aip_task.py\n"
     ]
    }
   ],
   "source": [
    "%%writefile /tmp/aip/create-training-pipeline/aip_task.py\n",
    "\n",
    "import numpy as np\n",
    "from tensorflow import keras\n",
    "\n",
    "\n",
    "def get_args():\n",
    "    import os\n",
    "    import argparse\n",
    "\n",
    "    parser = argparse.ArgumentParser()\n",
    "    parser.add_argument(\n",
    "        \"--model-dir\",\n",
    "        dest=\"model_dir\",\n",
    "        default=os.getenv(\"AIP_MODEL_DIR\"),\n",
    "        type=str,\n",
    "        help=\"Model dir.\",\n",
    "    )\n",
    "    return parser.parse_args()\n",
    "\n",
    "\n",
    "args = get_args()\n",
    "\n",
    "\n",
    "def get_model():\n",
    "    # Create a simple model.\n",
    "    inputs = keras.Input(shape=(32,))\n",
    "    outputs = keras.layers.Dense(1)(inputs)\n",
    "    model = keras.Model(inputs, outputs)\n",
    "    model.compile(optimizer=\"adam\", loss=\"mean_squared_error\")\n",
    "    return model\n",
    "\n",
    "\n",
    "model = get_model()\n",
    "\n",
    "# Train the model.\n",
    "test_input = np.random.random((128, 32))\n",
    "test_target = np.random.random((128, 1))\n",
    "model.fit(test_input, test_target)\n",
    "\n",
    "\n",
    "def s3_save_keras_model(model, model_name):\n",
    "    import re\n",
    "    import tempfile\n",
    "    import boto3\n",
    "\n",
    "    with tempfile.TemporaryDirectory() as tempdir:\n",
    "        local_path = f\"{tempdir}/{model_name}\"\n",
    "        model.save(local_path)\n",
    "\n",
    "        bucket_name, model_dir = re.match(\"s3://([^/]+)/(.*)\", args.model_dir).groups()\n",
    "        remote_path = f\"{model_dir}{model_name}\"\n",
    "        client = boto3.client(\"s3\")\n",
    "        client.upload_file(Filename=local_path, Bucket=bucket_name, Key=remote_path)\n",
    "\n",
    "\n",
    "# Calling `save('my_model')` creates a SavedModel folder `my_model`.\n",
    "s3_save_keras_model(model, \"my_model.h5\")"
   ]
  },
  {
   "cell_type": "markdown",
   "metadata": {
    "collapsed": false,
    "pycharm": {
     "name": "#%% md\n"
    }
   },
   "source": [
    "## 打包训练代码\n"
   ]
  },
  {
   "cell_type": "code",
   "execution_count": 3,
   "metadata": {
    "collapsed": false,
    "pycharm": {
     "name": "#%%\n"
    }
   },
   "outputs": [
    {
     "name": "stdout",
     "output_type": "stream",
     "text": [
      "a create-training-pipeline\r\n",
      "a create-training-pipeline/aip_task.py\r\n",
      "a create-training-pipeline/__init__.py\r\n",
      "upload: ../../../../../../../../tmp/aip/create-training-pipeline.tar.gz to s3://aip-demo/usages/create-training-pipeline.tar.gz\r\n"
     ]
    }
   ],
   "source": [
    "! rm -f /tmp/aip/create-training-pipeline.tar.gz\n",
    "! tar -zcvf /tmp/aip/create-training-pipeline.tar.gz -C /tmp/aip/ create-training-pipeline/\n",
    "! aws s3 cp /tmp/aip/create-training-pipeline.tar.gz s3://aip-demo/usages/create-training-pipeline.tar.gz"
   ]
  },
  {
   "cell_type": "markdown",
   "metadata": {
    "collapsed": false,
    "pycharm": {
     "name": "#%% md\n"
    }
   },
   "source": [
    "## 发起「创建训练流水线」请求"
   ]
  },
  {
   "cell_type": "code",
   "execution_count": 14,
   "metadata": {
    "collapsed": false,
    "pycharm": {
     "name": "#%%\n"
    }
   },
   "outputs": [
    {
     "data": {
      "text/plain": [
       "'create-train-pipeline_20220721182038'"
      ]
     },
     "execution_count": 14,
     "metadata": {},
     "output_type": "execute_result"
    }
   ],
   "source": [
    "from datetime import datetime\n",
    "\n",
    "CONTAINER_URL = \"harbor.nadileaf.com/aip-images/create-training-image:0.1.1\"\n",
    "PYTHON_PACKAGE_URI = \"s3://aip-demo/usages/create-training-pipeline.tar.gz\"\n",
    "PYTHON_MODULE_NAME = \"create-training-pipeline.aip_task\"\n",
    "\n",
    "TIMESTAMP = datetime.now().strftime(\"%Y%m%d%H%M%S\")\n",
    "DISPLAY_NAME = \"create-train-pipeline_\" + TIMESTAMP\n",
    "\n",
    "DISPLAY_NAME"
   ]
  },
  {
   "cell_type": "code",
   "execution_count": 23,
   "metadata": {
    "collapsed": false,
    "pycharm": {
     "name": "#%%\n"
    }
   },
   "outputs": [
    {
     "name": "stdout",
     "output_type": "stream",
     "text": [
      "{\n",
      "    'name': 'projects/tokyo-rain-42/locations/default/trainingPipelines/ae4668ea-e95d-49d5-a783-6f20d13d14fb',\n",
      "    'displayName': 'create-train-pipeline_20220721182038',\n",
      "    'trainingTaskDefinition': 's3://aip/schema/trainingjob/definition/custom_task_1.0.0.yaml',\n",
      "    'trainingTaskInputs': {\n",
      "        'workerPoolSpecs': [\n",
      "            {\n",
      "                'pythonPackageSpec': {\n",
      "                    'executorImageUri': 'harbor.nadileaf.com/aip-images/create-training-image:0.1.1',\n",
      "                    'packageUris': [\n",
      "                        's3://aip-demo/usages/create-training-pipeline.tar.gz',\n",
      "                    ],\n",
      "                    'pythonModule': 'create-training-pipeline.aip_task',\n",
      "                },\n",
      "            },\n",
      "        ],\n",
      "    },\n",
      "    'modelToUpload': {\n",
      "        'name': '',\n",
      "        'displayName': 'create-train-pipeline_20220721182038',\n",
      "        'description': '',\n",
      "        'metadataSchemaUri': '',\n",
      "        'supportedExportFormats': [],\n",
      "        'trainingPipeline': 'projects/tokyo-rain-42/locations/default/trainingPipelines/ae4668ea-e95d-49d5-a783-6f20d13d14fb',\n",
      "        'containerSpec': {\n",
      "            'imageUri': 'IMAGE_URI',\n",
      "            'command': [],\n",
      "            'args': [],\n",
      "            'env': [],\n",
      "            'ports': [],\n",
      "            'predictRoute': '',\n",
      "            'healthRoute': '',\n",
      "        },\n",
      "        'artifactUri': '',\n",
      "        'supportedDeploymentResourcesTypes': [],\n",
      "        'supportedInputStorageFormats': [],\n",
      "        'supportedOutputStorageFormats': [],\n",
      "        'deployedModels': [],\n",
      "        'etag': '',\n",
      "        'labels': {},\n",
      "        'createTime': '2022-07-21T02:33:31.839922Z',\n",
      "        'updateTime': '2022-07-21T02:33:31.839922Z',\n",
      "    },\n",
      "    'state': 'PIPELINE_STATE_QUEUED',\n",
      "    'labels': {},\n",
      "    'createTime': '2022-07-21T02:33:31.839883Z',\n",
      "    'updateTime': '2022-07-21T02:33:31.839883Z',\n",
      "}\n"
     ]
    }
   ],
   "source": [
    "from devtools import pprint\n",
    "import requests\n",
    "import json\n",
    "\n",
    "url = f\"{HOST}/v1/projects/{PROJECT_ID}/locations/{LOCATION}/trainingPipelines\"\n",
    "\n",
    "payload = json.dumps(\n",
    "    {\n",
    "        \"displayName\": DISPLAY_NAME,\n",
    "        \"trainingTaskDefinition\": \"s3://aip/schema/trainingjob/definition/custom_task_1.0.0.yaml\",\n",
    "        \"trainingTaskInputs\": {\n",
    "            \"workerPoolSpecs\": [\n",
    "                {\n",
    "                    \"pythonPackageSpec\": {\n",
    "                        \"executorImageUri\": CONTAINER_URL,\n",
    "                        \"packageUris\": [PYTHON_PACKAGE_URI],\n",
    "                        \"pythonModule\": PYTHON_MODULE_NAME,\n",
    "                    }\n",
    "                }\n",
    "            ]\n",
    "        },\n",
    "        \"modelToUpload\": {\n",
    "            \"displayName\": DISPLAY_NAME,\n",
    "            \"predictSchemata\": {},\n",
    "            \"containerSpec\": {\"imageUri\": \"IMAGE_URI\"},\n",
    "        },\n",
    "    }\n",
    ")\n",
    "headers = {\"Content-Type\": \"application/json\"}\n",
    "\n",
    "response = requests.request(\"POST\", url, headers=headers, data=payload)\n",
    "\n",
    "pprint(response.json())"
   ]
  },
  {
   "cell_type": "markdown",
   "metadata": {
    "collapsed": false,
    "pycharm": {
     "name": "#%% md\n"
    }
   },
   "source": [
    "## 获取「训练流水线」的「名字」"
   ]
  },
  {
   "cell_type": "code",
   "execution_count": 24,
   "metadata": {
    "collapsed": false,
    "pycharm": {
     "name": "#%%\n"
    }
   },
   "outputs": [
    {
     "data": {
      "text/plain": [
       "'projects/tokyo-rain-42/locations/default/trainingPipelines/ae4668ea-e95d-49d5-a783-6f20d13d14fb'"
      ]
     },
     "execution_count": 24,
     "metadata": {},
     "output_type": "execute_result"
    }
   ],
   "source": [
    "TRAINING_PIPELINE_NAME = response.json()[\"name\"]\n",
    "TRAINING_PIPELINE_NAME"
   ]
  },
  {
   "cell_type": "markdown",
   "metadata": {
    "collapsed": false,
    "pycharm": {
     "name": "#%% md\n"
    }
   },
   "source": [
    "## 查询「训练流水线」的「状态」\n",
    "\n",
    "直到 `state` 字段为 `PIPELINE_STATE_SUCCEEDED`，才能获取到模型的名字。"
   ]
  },
  {
   "cell_type": "code",
   "execution_count": 28,
   "metadata": {
    "collapsed": false,
    "pycharm": {
     "name": "#%%\n"
    }
   },
   "outputs": [
    {
     "name": "stdout",
     "output_type": "stream",
     "text": [
      "'PIPELINE_STATE_SUCCEEDED'\n",
      "{\n",
      "    'name': 'projects/tokyo-rain-42/locations/default/trainingPipelines/ae4668ea-e95d-49d5-a783-6f20d13d14fb',\n",
      "    'displayName': 'create-train-pipeline_20220721182038',\n",
      "    'trainingTaskDefinition': 's3://aip/schema/trainingjob/definition/custom_task_1.0.0.yaml',\n",
      "    'trainingTaskInputs': {\n",
      "        'workerPoolSpecs': [\n",
      "            {\n",
      "                'pythonPackageSpec': {\n",
      "                    'packageUris': [\n",
      "                        's3://aip-demo/usages/create-training-pipeline.tar.gz',\n",
      "                    ],\n",
      "                    'pythonModule': 'create-training-pipeline.aip_task',\n",
      "                    'executorImageUri': 'harbor.nadileaf.com/aip-images/create-training-image:0.1.1',\n",
      "                },\n",
      "            },\n",
      "        ],\n",
      "    },\n",
      "    'modelToUpload': {\n",
      "        'name': 'projects/tokyo-rain-42/locations/default/models/418714a7-149a-43d1-9f57-af9160dfc840',\n",
      "        'displayName': 'create-train-pipeline_20220721182038',\n",
      "        'description': '',\n",
      "        'metadataSchemaUri': '',\n",
      "        'supportedExportFormats': [],\n",
      "        'trainingPipeline': 'projects/tokyo-rain-42/locations/default/trainingPipelines/ae4668ea-e95d-49d5-a783-6f20d13d14fb',\n",
      "        'containerSpec': {\n",
      "            'imageUri': 'IMAGE_URI',\n",
      "            'command': [],\n",
      "            'args': [],\n",
      "            'env': [],\n",
      "            'ports': [],\n",
      "            'predictRoute': '',\n",
      "            'healthRoute': '',\n",
      "        },\n",
      "        'artifactUri': '',\n",
      "        'supportedDeploymentResourcesTypes': [],\n",
      "        'supportedInputStorageFormats': [],\n",
      "        'supportedOutputStorageFormats': [],\n",
      "        'deployedModels': [],\n",
      "        'etag': '',\n",
      "        'labels': {},\n",
      "        'createTime': '2022-07-21T02:33:31.839922Z',\n",
      "        'updateTime': '2022-07-21T02:33:31.839922Z',\n",
      "    },\n",
      "    'state': 'PIPELINE_STATE_SUCCEEDED',\n",
      "    'labels': {},\n",
      "    'createTime': '2022-07-21T02:33:31.839883Z',\n",
      "    'startTime': '2022-07-21T10:33:32Z',\n",
      "    'endTime': '2022-07-21T10:33:40Z',\n",
      "    'updateTime': '2022-07-21T02:33:41.409994Z',\n",
      "}\n"
     ]
    }
   ],
   "source": [
    "import requests\n",
    "from devtools import pprint\n",
    "\n",
    "url = f\"{HOST}/v1/{TRAINING_PIPELINE_NAME}\"\n",
    "\n",
    "payload = {}\n",
    "headers = {}\n",
    "\n",
    "response = requests.request(\"GET\", url, headers=headers, data=payload)\n",
    "\n",
    "pprint(response.json()[\"state\"])\n",
    "pprint(response.json())"
   ]
  },
  {
   "cell_type": "markdown",
   "metadata": {
    "collapsed": false,
    "pycharm": {
     "name": "#%% md\n"
    }
   },
   "source": [
    "## 获取「模型」的「名字」"
   ]
  },
  {
   "cell_type": "code",
   "execution_count": 29,
   "metadata": {
    "collapsed": false,
    "pycharm": {
     "name": "#%%\n"
    }
   },
   "outputs": [
    {
     "data": {
      "text/plain": [
       "'projects/tokyo-rain-42/locations/default/models/418714a7-149a-43d1-9f57-af9160dfc840'"
      ]
     },
     "execution_count": 29,
     "metadata": {},
     "output_type": "execute_result"
    }
   ],
   "source": [
    "MODEL_NAME = response.json()[\"modelToUpload\"][\"name\"]\n",
    "MODEL_NAME"
   ]
  },
  {
   "cell_type": "markdown",
   "metadata": {
    "collapsed": false,
    "pycharm": {
     "name": "#%% md\n"
    }
   },
   "source": []
  },
  {
   "cell_type": "code",
   "execution_count": null,
   "metadata": {
    "collapsed": false,
    "pycharm": {
     "name": "#%%\n"
    }
   },
   "outputs": [],
   "source": []
  }
 ],
 "metadata": {
  "kernelspec": {
   "display_name": "Python 3",
   "language": "python",
   "name": "python3"
  },
  "language_info": {
   "codemirror_mode": {
    "name": "ipython",
    "version": 2
   },
   "file_extension": ".py",
   "mimetype": "text/x-python",
   "name": "python",
   "nbconvert_exporter": "python",
   "pygments_lexer": "ipython2",
   "version": "2.7.6"
  }
 },
 "nbformat": 4,
 "nbformat_minor": 0
}
