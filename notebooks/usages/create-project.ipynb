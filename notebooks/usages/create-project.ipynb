{
 "cells": [
  {
   "cell_type": "markdown",
   "metadata": {
    "collapsed": false,
    "pycharm": {
     "name": "#%% md\n"
    }
   },
   "source": [
    "# 创建项目\n",
    "\n",
    "## 导语\n",
    "\n",
    "此笔记旨在创建一个初始项目，方便进行后续操作与管理。\n"
   ]
  },
  {
   "cell_type": "markdown",
   "metadata": {
    "collapsed": false,
    "pycharm": {
     "name": "#%% md\n"
    }
   },
   "source": [
    "## 发起「创建项目」请求"
   ]
  },
  {
   "cell_type": "code",
   "execution_count": 1,
   "metadata": {
    "collapsed": false,
    "pycharm": {
     "name": "#%%\n"
    }
   },
   "outputs": [],
   "source": [
    "HOST = \"http://localhost:5002\"\n",
    "PROJECT_ID = \"tokyo-rain-42\""
   ]
  },
  {
   "cell_type": "code",
   "execution_count": 2,
   "metadata": {
    "collapsed": false,
    "pycharm": {
     "name": "#%%\n"
    }
   },
   "outputs": [
    {
     "name": "stdout",
     "output_type": "stream",
     "text": [
      "{\n",
      "    'name': 'operations/70b7a479-944f-47f1-bef5-513f747e69ac',\n",
      "    'metadata': {\n",
      "        '@type': 'type.googleapis.com/google.cloud.resourcemanager.v3.CreateProjectMetadata',\n",
      "        'gettable': False,\n",
      "        'ready': False,\n",
      "        'createTime': '2022-07-21T02:19:06.011826Z',\n",
      "    },\n",
      "    'done': False,\n",
      "}\n"
     ]
    }
   ],
   "source": [
    "from devtools import pprint\n",
    "import requests\n",
    "import json\n",
    "\n",
    "url = f\"{HOST}/v3/projects\"\n",
    "\n",
    "payload = json.dumps({\"project_id\": PROJECT_ID})\n",
    "headers = {\"Content-Type\": \"application/json\"}\n",
    "\n",
    "response = requests.request(\"POST\", url, headers=headers, data=payload)\n",
    "\n",
    "pprint(response.json())"
   ]
  },
  {
   "cell_type": "markdown",
   "metadata": {
    "collapsed": false,
    "pycharm": {
     "name": "#%% md\n"
    }
   },
   "source": [
    "## 获取「操作ID」\n",
    "\n",
    "因为「创建项目」行为是个长操作，所以需要获取「操作ID」，以便后续查询「操作状态」。"
   ]
  },
  {
   "cell_type": "code",
   "execution_count": 3,
   "metadata": {
    "collapsed": false,
    "pycharm": {
     "name": "#%%\n"
    }
   },
   "outputs": [
    {
     "data": {
      "text/plain": [
       "'operations/70b7a479-944f-47f1-bef5-513f747e69ac'"
      ]
     },
     "execution_count": 3,
     "metadata": {},
     "output_type": "execute_result"
    }
   ],
   "source": [
    "OPERATION_NAME = response.json()[\"name\"]\n",
    "OPERATION_NAME"
   ]
  },
  {
   "cell_type": "markdown",
   "metadata": {
    "collapsed": false,
    "pycharm": {
     "name": "#%% md\n"
    }
   },
   "source": [
    "## 查询「操作状态」\n",
    "\n",
    "直至 `done` 字段为 `True`，则表示操作完成。"
   ]
  },
  {
   "cell_type": "code",
   "execution_count": 4,
   "metadata": {
    "collapsed": false,
    "pycharm": {
     "name": "#%%\n"
    }
   },
   "outputs": [
    {
     "name": "stdout",
     "output_type": "stream",
     "text": [
      "{\n",
      "    'name': 'operations/70b7a479-944f-47f1-bef5-513f747e69ac',\n",
      "    'metadata': {\n",
      "        '@type': 'type.googleapis.com/google.cloud.resourcemanager.v3.CreateProjectMetadata',\n",
      "        'gettable': False,\n",
      "        'ready': False,\n",
      "        'createTime': '2022-07-21T02:19:06.011826Z',\n",
      "    },\n",
      "    'done': True,\n",
      "    'response': {\n",
      "        '@type': 'type.googleapis.com/google.cloud.resourcemanager.v3.Project',\n",
      "        'name': 'projects/2',\n",
      "        'parent': '',\n",
      "        'projectId': 'tokyo-rain-42',\n",
      "        'state': 'ACTIVE',\n",
      "        'displayName': '',\n",
      "        'etag': '',\n",
      "        'labels': {},\n",
      "        'createTime': '2022-07-21T02:19:06.188691Z',\n",
      "        'updateTime': '2022-07-21T02:19:06.188691Z',\n",
      "    },\n",
      "}\n"
     ]
    }
   ],
   "source": [
    "import requests\n",
    "from devtools import pprint\n",
    "\n",
    "url = f\"{HOST}/v1/{OPERATION_NAME}\"\n",
    "\n",
    "payload = {}\n",
    "headers = {}\n",
    "\n",
    "response = requests.request(\"GET\", url, headers=headers, data=payload)\n",
    "\n",
    "pprint(response.json())"
   ]
  }
 ],
 "metadata": {
  "kernelspec": {
   "display_name": "Python 3",
   "language": "python",
   "name": "python3"
  },
  "language_info": {
   "codemirror_mode": {
    "name": "ipython",
    "version": 2
   },
   "file_extension": ".py",
   "mimetype": "text/x-python",
   "name": "python",
   "nbconvert_exporter": "python",
   "pygments_lexer": "ipython2",
   "version": "2.7.6"
  }
 },
 "nbformat": 4,
 "nbformat_minor": 0
}
