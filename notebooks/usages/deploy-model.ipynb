{
 "cells": [
  {
   "cell_type": "markdown",
   "metadata": {
    "collapsed": false,
    "pycharm": {
     "name": "#%% md\n"
    }
   },
   "source": [
    "# 部署模型\n"
   ]
  },
  {
   "cell_type": "code",
   "execution_count": 12,
   "metadata": {
    "collapsed": false,
    "pycharm": {
     "name": "#%%\n"
    }
   },
   "outputs": [],
   "source": [
    "HOST = \"https://aip-apis.nadileaf.com\"\n",
    "PROJECT_ID = \"tokyo-rain-42\"\n",
    "LOCATION = \"default\""
   ]
  },
  {
   "cell_type": "code",
   "execution_count": 13,
   "metadata": {
    "collapsed": false,
    "pycharm": {
     "name": "#%%\n"
    }
   },
   "outputs": [],
   "source": [
    "MODEL_NAME = \"projects/tokyo-rain-42/locations/default/models/750e6e67-526c-44a3-b173-05ea95a9cc43\""
   ]
  },
  {
   "cell_type": "markdown",
   "metadata": {
    "collapsed": false,
    "pycharm": {
     "name": "#%% md\n"
    }
   },
   "source": [
    "\n",
    "## 创建端点（可选）\n",
    "\n",
    "如果要将模型部署到现有端点，您可以跳过此步骤。"
   ]
  },
  {
   "cell_type": "code",
   "execution_count": 30,
   "metadata": {
    "collapsed": false,
    "pycharm": {
     "name": "#%%\n"
    }
   },
   "outputs": [
    {
     "name": "stdout",
     "output_type": "stream",
     "text": [
      "{\n",
      "    'name': (\n",
      "        'projects/tokyo-rain-42/locations/default/endpoints/eb7be5d9-67e2-4f95-8e6d-27bce396be4a/operations/24a839f4-d'\n",
      "        '9ad-494c-86d9-18a970f42391'\n",
      "    ),\n",
      "    'metadata': {\n",
      "        '@type': 'type.googleapis.com/google.cloud.aiplatform.v1.CreateEndpointOperationMetadata',\n",
      "        'genericMetadata': {\n",
      "            'partialFailures': [],\n",
      "            'createTime': '2022-08-11T23:24:36.153844Z',\n",
      "            'updateTime': '2022-08-11T23:24:36.153844Z',\n",
      "        },\n",
      "    },\n",
      "    'done': False,\n",
      "}\n"
     ]
    }
   ],
   "source": [
    "from devtools import pprint\n",
    "import requests\n",
    "import json\n",
    "\n",
    "url = f\"{HOST}/v1/projects/{PROJECT_ID}/locations/{LOCATION}/endpoints\"\n",
    "\n",
    "payload = json.dumps({\"display_name\": \"Test Endpoint\"})\n",
    "headers = {\"Content-Type\": \"application/json\"}\n",
    "\n",
    "response = requests.request(\"POST\", url, headers=headers, data=payload)\n",
    "\n",
    "pprint(response.json())"
   ]
  },
  {
   "cell_type": "markdown",
   "metadata": {
    "collapsed": false,
    "pycharm": {
     "name": "#%% md\n"
    }
   },
   "source": [
    "### 获取「操作ID」\n",
    "\n",
    "因为「创建项目」行为是个长操作，所以需要获取「操作ID」，以便后续查询「操作状态」。"
   ]
  },
  {
   "cell_type": "code",
   "execution_count": 31,
   "metadata": {
    "collapsed": false,
    "pycharm": {
     "name": "#%%\n"
    }
   },
   "outputs": [
    {
     "data": {
      "text/plain": [
       "'operations/24a839f4-d9ad-494c-86d9-18a970f42391'"
      ]
     },
     "execution_count": 31,
     "metadata": {},
     "output_type": "execute_result"
    }
   ],
   "source": [
    "OPERATION_NAME = response.json()[\"name\"]\n",
    "OPERATION_NAME = \"/\".join(OPERATION_NAME.split(\"/\")[-2:])\n",
    "OPERATION_NAME"
   ]
  },
  {
   "cell_type": "markdown",
   "metadata": {
    "collapsed": false,
    "pycharm": {
     "name": "#%% md\n"
    }
   },
   "source": [
    "### 查询「操作状态」\n",
    "\n",
    "直至 `done` 字段为 `True`，则表示操作完成。"
   ]
  },
  {
   "cell_type": "code",
   "execution_count": 33,
   "metadata": {
    "collapsed": false,
    "pycharm": {
     "name": "#%%\n"
    }
   },
   "outputs": [
    {
     "name": "stdout",
     "output_type": "stream",
     "text": [
      "{\n",
      "    'name': 'operations/24a839f4-d9ad-494c-86d9-18a970f42391',\n",
      "    'metadata': {\n",
      "        '@type': 'type.googleapis.com/google.cloud.aiplatform.v1.CreateEndpointOperationMetadata',\n",
      "        'genericMetadata': {\n",
      "            'partialFailures': [],\n",
      "            'createTime': '2022-08-11T23:24:36.153844Z',\n",
      "            'updateTime': '2022-08-11T23:24:57.228814Z',\n",
      "        },\n",
      "    },\n",
      "    'done': True,\n",
      "    'response': {\n",
      "        '@type': 'type.googleapis.com/google.cloud.aiplatform.v1.Endpoint',\n",
      "        'name': 'projects/tokyo-rain-42/locations/default/endpoints/eb7be5d9-67e2-4f95-8e6d-27bce396be4a',\n",
      "        'displayName': 'Test Endpoint',\n",
      "        'description': '',\n",
      "        'deployedModels': [],\n",
      "        'trafficSplit': {},\n",
      "        'etag': '',\n",
      "        'labels': {},\n",
      "        'network': '',\n",
      "        'enablePrivateServiceConnect': False,\n",
      "        'modelDeploymentMonitoringJob': '',\n",
      "        'createTime': '2022-08-11T23:24:57.197788Z',\n",
      "        'updateTime': '2022-08-11T23:24:57.197788Z',\n",
      "    },\n",
      "}\n"
     ]
    }
   ],
   "source": [
    "import requests\n",
    "from devtools import pprint\n",
    "\n",
    "url = f\"{HOST}/v1/{OPERATION_NAME}\"\n",
    "\n",
    "payload = {}\n",
    "headers = {}\n",
    "\n",
    "response = requests.request(\"GET\", url, headers=headers, data=payload)\n",
    "\n",
    "pprint(response.json())"
   ]
  },
  {
   "cell_type": "markdown",
   "metadata": {
    "collapsed": false,
    "pycharm": {
     "name": "#%% md\n"
    }
   },
   "source": [
    "## 设置端点"
   ]
  },
  {
   "cell_type": "code",
   "execution_count": 34,
   "metadata": {
    "collapsed": false,
    "pycharm": {
     "name": "#%%\n"
    }
   },
   "outputs": [
    {
     "data": {
      "text/plain": [
       "'projects/tokyo-rain-42/locations/default/endpoints/eb7be5d9-67e2-4f95-8e6d-27bce396be4a'"
      ]
     },
     "execution_count": 34,
     "metadata": {},
     "output_type": "execute_result"
    }
   ],
   "source": [
    "ENDPOINT_NAME = response.json()[\"response\"][\"name\"]\n",
    "# ENDPOINT_NAME = \"projects/tokyo-rain-42/locations/default/endpoints/bf20588c-fd86-46f4-9975-3a1282b96315\"\n",
    "ENDPOINT_NAME"
   ]
  },
  {
   "cell_type": "markdown",
   "metadata": {
    "collapsed": false,
    "pycharm": {
     "name": "#%% md\n"
    }
   },
   "source": [
    "## 部署模型"
   ]
  },
  {
   "cell_type": "code",
   "execution_count": 47,
   "metadata": {
    "collapsed": false,
    "pycharm": {
     "name": "#%%\n"
    }
   },
   "outputs": [
    {
     "name": "stdout",
     "output_type": "stream",
     "text": [
      "{\n",
      "    'name': (\n",
      "        'projects/tokyo-rain-42/locations/default/endpoints/eb7be5d9-67e2-4f95-8e6d-27bce396be4a/operations/e52d4723-c'\n",
      "        'b2e-4b08-92ea-a62a25c71f75'\n",
      "    ),\n",
      "    'metadata': {\n",
      "        '@type': 'type.googleapis.com/google.cloud.aiplatform.v1.DeployModelOperationMetadata',\n",
      "        'genericMetadata': {\n",
      "            'partialFailures': [],\n",
      "            'createTime': '2022-08-11T23:29:42.588570Z',\n",
      "            'updateTime': '2022-08-11T23:29:42.588570Z',\n",
      "        },\n",
      "    },\n",
      "    'done': False,\n",
      "}\n"
     ]
    }
   ],
   "source": [
    "import requests\n",
    "import json\n",
    "\n",
    "url = f\"{HOST}/v1/{ENDPOINT_NAME}:deployModel\"\n",
    "\n",
    "payload = json.dumps(\n",
    "    {\n",
    "        \"deployed_model\": {\n",
    "            \"model\": MODEL_NAME,\n",
    "        }\n",
    "    }\n",
    ")\n",
    "headers = {\"Content-Type\": \"application/json\"}\n",
    "\n",
    "response = requests.request(\"POST\", url, headers=headers, data=payload)\n",
    "\n",
    "pprint(response.json())"
   ]
  },
  {
   "cell_type": "markdown",
   "metadata": {
    "collapsed": false,
    "pycharm": {
     "name": "#%% md\n"
    }
   },
   "source": [
    "### 获取「操作ID」\n",
    "\n",
    "因为「创建项目」行为是个长操作，所以需要获取「操作ID」，以便后续查询「操作状态」。"
   ]
  },
  {
   "cell_type": "code",
   "execution_count": 48,
   "metadata": {
    "collapsed": false,
    "pycharm": {
     "name": "#%%\n"
    }
   },
   "outputs": [
    {
     "data": {
      "text/plain": [
       "'operations/e52d4723-cb2e-4b08-92ea-a62a25c71f75'"
      ]
     },
     "execution_count": 48,
     "metadata": {},
     "output_type": "execute_result"
    }
   ],
   "source": [
    "OPERATION_NAME = response.json()[\"name\"]\n",
    "OPERATION_NAME = \"/\".join(OPERATION_NAME.split(\"/\")[-2:])\n",
    "OPERATION_NAME"
   ]
  },
  {
   "cell_type": "markdown",
   "metadata": {
    "collapsed": false,
    "pycharm": {
     "name": "#%% md\n"
    }
   },
   "source": [
    "### 查询「操作状态」\n",
    "\n",
    "直至 `done` 字段为 `True`，则表示操作完成。"
   ]
  },
  {
   "cell_type": "code",
   "execution_count": 49,
   "metadata": {
    "collapsed": false,
    "pycharm": {
     "name": "#%%\n"
    }
   },
   "outputs": [
    {
     "name": "stdout",
     "output_type": "stream",
     "text": [
      "{\n",
      "    'name': 'operations/e52d4723-cb2e-4b08-92ea-a62a25c71f75',\n",
      "    'metadata': {\n",
      "        '@type': 'type.googleapis.com/google.cloud.aiplatform.v1.DeployModelOperationMetadata',\n",
      "        'genericMetadata': {\n",
      "            'partialFailures': [],\n",
      "            'createTime': '2022-08-11T23:29:42.588570Z',\n",
      "            'updateTime': '2022-08-11T23:29:42.588570Z',\n",
      "        },\n",
      "    },\n",
      "    'done': True,\n",
      "    'response': {\n",
      "        '@type': 'type.googleapis.com/google.cloud.aiplatform.v1.DeployModelResponse',\n",
      "        'deployedModel': {\n",
      "            'id': 'ffeebb82-aea4-4b08-beca-4498603e2e20',\n",
      "            'model': 'projects/tokyo-rain-42/locations/default/models/750e6e67-526c-44a3-b173-05ea95a9cc43',\n",
      "            'displayName': '',\n",
      "            'serviceAccount': '',\n",
      "            'disableContainerLogging': False,\n",
      "            'enableAccessLogging': False,\n",
      "            'createTime': '2022-08-11T23:29:43.321550Z',\n",
      "        },\n",
      "    },\n",
      "}\n"
     ]
    }
   ],
   "source": [
    "import requests\n",
    "from devtools import pprint\n",
    "\n",
    "url = f\"{HOST}/v1/{OPERATION_NAME}\"\n",
    "\n",
    "payload = {}\n",
    "headers = {}\n",
    "\n",
    "response = requests.request(\"GET\", url, headers=headers, data=payload)\n",
    "\n",
    "pprint(response.json())"
   ]
  },
  {
   "cell_type": "markdown",
   "metadata": {
    "collapsed": false,
    "pycharm": {
     "name": "#%% md\n"
    }
   },
   "source": [
    "## 在线预测\n",
    "\n",
    "比如 TensorFlow 的 Serving：\n",
    "https://www.tensorflow.org/tfx/serving/docker\n",
    "\n"
   ]
  },
  {
   "cell_type": "code",
   "execution_count": 52,
   "metadata": {
    "collapsed": false,
    "pycharm": {
     "name": "#%%\n"
    }
   },
   "outputs": [
    {
     "name": "stdout",
     "output_type": "stream",
     "text": [
      "{\n",
      "    'predictions': [\n",
      "        [0.505704],\n",
      "        [\n",
      "            0.937642038,\n",
      "        ],\n",
      "    ],\n",
      "    'deployedModelId': '',\n",
      "    'model': '',\n",
      "    'modelDisplayName': '',\n",
      "}\n"
     ]
    }
   ],
   "source": [
    "import requests\n",
    "import json\n",
    "\n",
    "url = f\"{HOST}/v1/{ENDPOINT_NAME}:predict\"\n",
    "\n",
    "payload = json.dumps(\n",
    "    {\n",
    "        \"instances\": [\n",
    "            [\n",
    "                0.35850452793091736,\n",
    "                0.9274893704904338,\n",
    "                0.14409852387558053,\n",
    "                0.27501577087442575,\n",
    "                0.41792885848978445,\n",
    "                0.6635046639166394,\n",
    "                0.9002132115089717,\n",
    "                0.4018983258887462,\n",
    "                0.2402074709317984,\n",
    "                0.1849795949176375,\n",
    "                0.5397318215794611,\n",
    "                0.19347945325917804,\n",
    "                0.06977083804451178,\n",
    "                0.6451137824838984,\n",
    "                0.09835458799596963,\n",
    "                0.9111694981959119,\n",
    "                0.3226935472153444,\n",
    "                0.7426842969565828,\n",
    "                0.6677332658759303,\n",
    "                0.13485891137030714,\n",
    "                0.6897559050670786,\n",
    "                0.2143836402084356,\n",
    "                0.45485524692440316,\n",
    "                0.03013785077555997,\n",
    "                0.366213116664883,\n",
    "                0.9610827471164674,\n",
    "                0.016579209406623607,\n",
    "                0.40509157391539885,\n",
    "                0.29582289392551464,\n",
    "                0.7735093990056595,\n",
    "                0.589243470377184,\n",
    "                0.5430504526398211,\n",
    "            ],\n",
    "            [\n",
    "                0.5146789724854888,\n",
    "                0.05733888050424507,\n",
    "                0.4573297623540814,\n",
    "                0.8474106297496059,\n",
    "                0.8944939366780679,\n",
    "                0.29380317838307124,\n",
    "                0.32613270845824816,\n",
    "                0.9587424380685627,\n",
    "                0.45681111589536516,\n",
    "                0.7314661194475954,\n",
    "                0.49758669023097857,\n",
    "                0.4862565450761265,\n",
    "                0.43325296293589155,\n",
    "                0.7568041528209037,\n",
    "                0.1327324081420197,\n",
    "                0.6496218333658519,\n",
    "                0.852160510080752,\n",
    "                0.3387045459941851,\n",
    "                0.21160715895265247,\n",
    "                0.05859423613801318,\n",
    "                0.8492249748250319,\n",
    "                0.7990251985960497,\n",
    "                0.8630577831558155,\n",
    "                0.02610678900477137,\n",
    "                0.27019536031659186,\n",
    "                0.031082936851031917,\n",
    "                0.6123543483232188,\n",
    "                0.17725051927607038,\n",
    "                0.05673852849249672,\n",
    "                0.0666100155200674,\n",
    "                0.3515054686453387,\n",
    "                0.7184345666249412,\n",
    "            ],\n",
    "        ]\n",
    "    }\n",
    ")\n",
    "headers = {\"Content-Type\": \"application/json\"}\n",
    "\n",
    "response = requests.request(\"POST\", url, headers=headers, data=payload)\n",
    "\n",
    "pprint(response.json())"
   ]
  },
  {
   "cell_type": "code",
   "execution_count": null,
   "metadata": {
    "collapsed": false,
    "pycharm": {
     "name": "#%%\n"
    }
   },
   "outputs": [],
   "source": []
  }
 ],
 "metadata": {
  "kernelspec": {
   "display_name": "Python 3",
   "language": "python",
   "name": "python3"
  },
  "language_info": {
   "codemirror_mode": {
    "name": "ipython",
    "version": 2
   },
   "file_extension": ".py",
   "mimetype": "text/x-python",
   "name": "python",
   "nbconvert_exporter": "python",
   "pygments_lexer": "ipython2",
   "version": "2.7.6"
  }
 },
 "nbformat": 4,
 "nbformat_minor": 0
}
