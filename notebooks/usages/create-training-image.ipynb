{
 "cells": [
  {
   "cell_type": "markdown",
   "metadata": {
    "collapsed": false,
    "pycharm": {
     "name": "#%% md\n"
    }
   },
   "source": [
    "# 创建训练映像"
   ]
  },
  {
   "cell_type": "markdown",
   "metadata": {
    "collapsed": false,
    "pycharm": {
     "name": "#%% md\n"
    }
   },
   "source": [
    "## 创建项目目录\n",
    "\n",
    "我们先创建一个空文件夹，作为项目根目录。\n",
    "\n",
    "```shell\n",
    "mkdir -p /tmp/aip-images/create-training-image\n",
    "```"
   ]
  },
  {
   "cell_type": "markdown",
   "metadata": {
    "collapsed": false,
    "pycharm": {
     "name": "#%% md\n"
    }
   },
   "source": [
    "## 创建项目配置\n",
    "\n",
    "编写项目配置 `pyproject.toml` 如下：\n",
    "```toml\n",
    "[tool.poetry]\n",
    "name = \"create-training-image\"\n",
    "version = \"0.1.0\"\n",
    "description = \"\"\n",
    "authors = [\"ChouUn <chouunsoft@gmail.com>\"]\n",
    "\n",
    "[tool.poetry.dependencies]\n",
    "python = \"3.9.*\"\n",
    "tensorflow = \"^2.9.1\"\n",
    "numpy = \"^1.23.1\"\n",
    "boto3 = \"^1.24.31\"\n",
    "\n",
    "[build-system]\n",
    "# Should be the same as `$POETRY_VERSION`:\n",
    "requires = [\"poetry>=1.0\"]\n",
    "build-backend = \"poetry.masonry.api\"\n",
    "```"
   ]
  },
  {
   "cell_type": "markdown",
   "metadata": {
    "collapsed": false,
    "pycharm": {
     "name": "#%% md\n"
    }
   },
   "source": [
    "## 创建库依赖锁\n",
    "\n",
    "并根据配置文件 `pyproject.toml` 生成库依赖锁 `poetry.lock`。\n",
    "生成命令如下：\n",
    "```shell\n",
    "poetry lock --no-update\n",
    "```"
   ]
  },
  {
   "cell_type": "markdown",
   "metadata": {
    "collapsed": false,
    "pycharm": {
     "name": "#%% md\n"
    }
   },
   "source": [
    "## 创建构建配置\n",
    "\n",
    "编写构建配置 `Dockerfile` 如下：\n",
    "```dockerfile\n",
    "FROM python:3.9\n",
    "\n",
    "ARG ENV\n",
    "\n",
    "ENV ENV=${ENV} \\\n",
    "  PYTHONFAULTHANDLER=1 \\\n",
    "  PYTHONUNBUFFERED=1 \\\n",
    "  PYTHONHASHSEED=random \\\n",
    "  PIP_NO_CACHE_DIR=off \\\n",
    "  PIP_DISABLE_PIP_VERSION_CHECK=on \\\n",
    "  PIP_DEFAULT_TIMEOUT=100 \\\n",
    "  POETRY_VERSION=1.1.14\n",
    "\n",
    "# System deps:\n",
    "RUN pip install \"poetry==$POETRY_VERSION\"\n",
    "\n",
    "# Copy only requirements to cache them in docker layer\n",
    "WORKDIR /opt/create-training-image/\n",
    "COPY poetry.lock pyproject.toml ./\n",
    "\n",
    "# Project initialization:\n",
    "RUN poetry config virtualenvs.create false \\\n",
    "  && poetry install $(test \"$ENV\" == production && echo \"--no-dev\") --no-interaction --no-ansi\n",
    "\n",
    "# Creating folders, and files for a project:\n",
    "# COPY . /app\n",
    "\n",
    "ENTRYPOINT [\"/usr/local/bin/_entrypoint.sh\"]\n",
    "```\n",
    "这里要注意，基本映像不能选择 `Alpine Linux`，因为他使用了 `musl libc` 而不是 `glibc`，会导致 `numpy` 等依赖无法正常安装。"
   ]
  },
  {
   "cell_type": "markdown",
   "metadata": {
    "collapsed": false,
    "pycharm": {
     "name": "#%% md\n"
    }
   },
   "source": [
    "## 推送映像\n",
    "\n",
    "推送映像到映像仓库 `Harbor` 上。\n",
    "此处 `aip-images` 是 `AIP` 的项目，用户可以选择路径。\n",
    "\n",
    "```shell\n",
    "docker build --tag harbor.nadileaf.com/aip-images/create-training-image:0.1.1 .\n",
    "docker push harbor.nadileaf.com/aip-images/create-training-image:0.1.1\n",
    "```"
   ]
  }
 ],
 "metadata": {
  "kernelspec": {
   "display_name": "Python 3",
   "language": "python",
   "name": "python3"
  },
  "language_info": {
   "codemirror_mode": {
    "name": "ipython",
    "version": 2
   },
   "file_extension": ".py",
   "mimetype": "text/x-python",
   "name": "python",
   "nbconvert_exporter": "python",
   "pygments_lexer": "ipython2",
   "version": "2.7.6"
  }
 },
 "nbformat": 4,
 "nbformat_minor": 0
}
