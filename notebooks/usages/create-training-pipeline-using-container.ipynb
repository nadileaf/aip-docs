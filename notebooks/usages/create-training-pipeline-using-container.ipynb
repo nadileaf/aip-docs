{
 "cells": [
  {
   "cell_type": "markdown",
   "metadata": {
    "collapsed": false,
    "pycharm": {
     "name": "#%% md\n"
    }
   },
   "source": [
    "# 创建训练流水线（容器版本）\n",
    "\n",
    "## 导语\n",
    "\n",
    "此笔记旨在创建一个训练流水线，以便我们可以训练一个模型。"
   ]
  },
  {
   "cell_type": "code",
   "execution_count": 1,
   "metadata": {
    "collapsed": false,
    "pycharm": {
     "name": "#%%\n"
    }
   },
   "outputs": [],
   "source": [
    "HOST = \"https://aip-apis.nadileaf.com\"\n",
    "PROJECT_ID = \"tokyo-rain-42\"\n",
    "LOCATION = \"default\""
   ]
  },
  {
   "cell_type": "markdown",
   "metadata": {
    "collapsed": false,
    "pycharm": {
     "name": "#%% md\n"
    }
   },
   "source": [
    "## 发起「创建训练流水线」请求\n",
    "\n",
    "我们使用 `IMAGE_URL` 作为容器映像的 URL，并执行 `COMMAND` 命令以及 `ARGS` 参数。"
   ]
  },
  {
   "cell_type": "code",
   "execution_count": 2,
   "metadata": {
    "collapsed": false,
    "pycharm": {
     "name": "#%%\n"
    }
   },
   "outputs": [
    {
     "data": {
      "text/plain": [
       "'create-train-pipeline_20220819165116'"
      ]
     },
     "execution_count": 2,
     "metadata": {},
     "output_type": "execute_result"
    }
   ],
   "source": [
    "from datetime import datetime\n",
    "\n",
    "MACHINE_TYPE = \"TBD\"\n",
    "ACCELERATOR_TYPE = \"ACCELERATOR_TYPE_UNSPECIFIED\"\n",
    "ACCELERATOR_COUNT = 0  # number of GPUs\n",
    "\n",
    "IMAGE_URL = \"harbor.nadileaf.com/aip-images/create-training-image:0.1.1\"\n",
    "COMMAND = [\"echo\"]\n",
    "ARGS = [\"hello world\"]\n",
    "\n",
    "TIMESTAMP = datetime.now().strftime(\"%Y%m%d%H%M%S\")\n",
    "DISPLAY_NAME = \"create-train-pipeline_\" + TIMESTAMP\n",
    "\n",
    "DISPLAY_NAME"
   ]
  },
  {
   "cell_type": "code",
   "execution_count": 3,
   "metadata": {
    "collapsed": false,
    "pycharm": {
     "name": "#%%\n"
    }
   },
   "outputs": [
    {
     "name": "stdout",
     "output_type": "stream",
     "text": [
      "{\n",
      "    'name': 'projects/tokyo-rain-42/locations/default/trainingPipelines/30c0238d-4b89-492c-af26-07aae16c31ce',\n",
      "    'displayName': 'create-train-pipeline_20220819165116',\n",
      "    'trainingTaskDefinition': 's3://aip/schema/trainingjob/definition/custom_task_1.0.0.yaml',\n",
      "    'trainingTaskInputs': {\n",
      "        'workerPoolSpecs': [\n",
      "            {\n",
      "                'machineSpec': {\n",
      "                    'machineType': 'TBD',\n",
      "                    'acceleratorType': 'ACCELERATOR_TYPE_UNSPECIFIED',\n",
      "                    'acceleratorCount': 0,\n",
      "                },\n",
      "                'containerSpec': {\n",
      "                    'imageUri': 'harbor.nadileaf.com/aip-images/create-training-image:0.1.1',\n",
      "                    'command': ['echo'],\n",
      "                    'args': [\n",
      "                        'hello world',\n",
      "                    ],\n",
      "                },\n",
      "            },\n",
      "        ],\n",
      "    },\n",
      "    'modelToUpload': {\n",
      "        'name': '',\n",
      "        'displayName': 'create-train-pipeline_20220819165116',\n",
      "        'description': '',\n",
      "        'metadataSchemaUri': '',\n",
      "        'supportedExportFormats': [],\n",
      "        'trainingPipeline': 'projects/tokyo-rain-42/locations/default/trainingPipelines/30c0238d-4b89-492c-af26-07aae16c31ce',\n",
      "        'containerSpec': {\n",
      "            'imageUri': 'tensorflow/serving:latest',\n",
      "            'command': [],\n",
      "            'args': [],\n",
      "            'env': [\n",
      "                {\n",
      "                    'name': 'MODEL_BASE_PATH',\n",
      "                    'value': '/app',\n",
      "                },\n",
      "                {\n",
      "                    'name': 'MODEL_NAME',\n",
      "                    'value': 'naive_model',\n",
      "                },\n",
      "            ],\n",
      "            'ports': [\n",
      "                {\n",
      "                    'containerPort': 8501,\n",
      "                },\n",
      "            ],\n",
      "            'predictRoute': '/v1/models/naive_model:predict',\n",
      "            'healthRoute': '',\n",
      "        },\n",
      "        'artifactUri': '',\n",
      "        'supportedDeploymentResourcesTypes': [],\n",
      "        'supportedInputStorageFormats': [],\n",
      "        'supportedOutputStorageFormats': [],\n",
      "        'deployedModels': [],\n",
      "        'etag': '',\n",
      "        'labels': {},\n",
      "        'createTime': '2022-08-19T08:51:35.495882Z',\n",
      "        'updateTime': '2022-08-19T08:51:35.495882Z',\n",
      "    },\n",
      "    'state': 'PIPELINE_STATE_QUEUED',\n",
      "    'labels': {},\n",
      "    'createTime': '2022-08-19T08:51:35.495856Z',\n",
      "    'updateTime': '2022-08-19T08:51:35.495856Z',\n",
      "}\n"
     ]
    }
   ],
   "source": [
    "from devtools import pprint\n",
    "import requests\n",
    "import json\n",
    "\n",
    "url = f\"{HOST}/v1/projects/{PROJECT_ID}/locations/{LOCATION}/trainingPipelines\"\n",
    "\n",
    "payload = json.dumps(\n",
    "    {\n",
    "        \"displayName\": DISPLAY_NAME,\n",
    "        \"trainingTaskDefinition\": \"s3://aip/schema/trainingjob/definition/custom_task_1.0.0.yaml\",\n",
    "        \"trainingTaskInputs\": {\n",
    "            \"workerPoolSpecs\": [\n",
    "                {\n",
    "                    \"machineSpec\": {\n",
    "                        \"machineType\": MACHINE_TYPE,\n",
    "                        \"acceleratorType\": ACCELERATOR_TYPE,\n",
    "                        \"acceleratorCount\": ACCELERATOR_COUNT,\n",
    "                    },\n",
    "                    \"containerSpec\": {\n",
    "                        \"imageUri\": IMAGE_URL,\n",
    "                        \"command\": COMMAND,\n",
    "                        \"args\": ARGS,\n",
    "                    },\n",
    "                }\n",
    "            ]\n",
    "        },\n",
    "        \"modelToUpload\": {\n",
    "            \"displayName\": DISPLAY_NAME,\n",
    "            \"predictSchemata\": {},\n",
    "            \"containerSpec\": {\n",
    "                \"imageUri\": \"tensorflow/serving:latest\",\n",
    "                \"ports\": [{\"containerPort\": 8501}],\n",
    "                \"env\": [\n",
    "                    {\"name\": \"MODEL_BASE_PATH\", \"value\": \"/app\"},\n",
    "                    {\"name\": \"MODEL_NAME\", \"value\": \"naive_model\"},\n",
    "                ],\n",
    "                \"predictRoute\": \"/v1/models/naive_model:predict\",\n",
    "            },\n",
    "        },\n",
    "    }\n",
    ")\n",
    "headers = {\"Content-Type\": \"application/json\"}\n",
    "\n",
    "response = requests.request(\"POST\", url, headers=headers, data=payload)\n",
    "\n",
    "pprint(response.json())"
   ]
  },
  {
   "cell_type": "markdown",
   "metadata": {
    "collapsed": false,
    "pycharm": {
     "name": "#%% md\n"
    }
   },
   "source": [
    "## 获取「训练流水线」的「名字」"
   ]
  },
  {
   "cell_type": "code",
   "execution_count": 4,
   "metadata": {
    "collapsed": false,
    "pycharm": {
     "name": "#%%\n"
    }
   },
   "outputs": [
    {
     "data": {
      "text/plain": [
       "'projects/tokyo-rain-42/locations/default/trainingPipelines/30c0238d-4b89-492c-af26-07aae16c31ce'"
      ]
     },
     "execution_count": 4,
     "metadata": {},
     "output_type": "execute_result"
    }
   ],
   "source": [
    "TRAINING_PIPELINE_NAME = response.json()[\"name\"]\n",
    "TRAINING_PIPELINE_NAME"
   ]
  },
  {
   "cell_type": "markdown",
   "metadata": {
    "collapsed": false,
    "pycharm": {
     "name": "#%% md\n"
    }
   },
   "source": [
    "## 查询「训练流水线」的「状态」\n",
    "\n",
    "直到 `state` 字段为 `PIPELINE_STATE_SUCCEEDED`，才能获取到模型的名字。"
   ]
  },
  {
   "cell_type": "code",
   "execution_count": 7,
   "metadata": {
    "collapsed": false,
    "pycharm": {
     "name": "#%%\n"
    }
   },
   "outputs": [
    {
     "name": "stdout",
     "output_type": "stream",
     "text": [
      "'PIPELINE_STATE_SUCCEEDED'\n",
      "{\n",
      "    'name': 'projects/tokyo-rain-42/locations/default/trainingPipelines/30c0238d-4b89-492c-af26-07aae16c31ce',\n",
      "    'displayName': 'create-train-pipeline_20220819165116',\n",
      "    'trainingTaskDefinition': 's3://aip/schema/trainingjob/definition/custom_task_1.0.0.yaml',\n",
      "    'trainingTaskInputs': {\n",
      "        'workerPoolSpecs': [\n",
      "            {\n",
      "                'machineSpec': {\n",
      "                    'machineType': 'TBD',\n",
      "                    'acceleratorType': 'ACCELERATOR_TYPE_UNSPECIFIED',\n",
      "                    'acceleratorCount': 0,\n",
      "                },\n",
      "                'containerSpec': {\n",
      "                    'args': [\n",
      "                        'hello world',\n",
      "                    ],\n",
      "                    'command': ['echo'],\n",
      "                    'imageUri': 'harbor.nadileaf.com/aip-images/create-training-image:0.1.1',\n",
      "                },\n",
      "            },\n",
      "        ],\n",
      "    },\n",
      "    'modelToUpload': {\n",
      "        'name': 'projects/tokyo-rain-42/locations/default/models/926df648-415d-47c1-8e81-ca7b56616df9',\n",
      "        'displayName': 'create-train-pipeline_20220819165116',\n",
      "        'description': '',\n",
      "        'metadataSchemaUri': '',\n",
      "        'supportedExportFormats': [],\n",
      "        'trainingPipeline': 'projects/tokyo-rain-42/locations/default/trainingPipelines/30c0238d-4b89-492c-af26-07aae16c31ce',\n",
      "        'containerSpec': {\n",
      "            'imageUri': 'tensorflow/serving:latest',\n",
      "            'command': [],\n",
      "            'args': [],\n",
      "            'env': [\n",
      "                {\n",
      "                    'name': 'MODEL_BASE_PATH',\n",
      "                    'value': '/app',\n",
      "                },\n",
      "                {\n",
      "                    'name': 'MODEL_NAME',\n",
      "                    'value': 'naive_model',\n",
      "                },\n",
      "            ],\n",
      "            'ports': [\n",
      "                {\n",
      "                    'containerPort': 8501,\n",
      "                },\n",
      "            ],\n",
      "            'predictRoute': '/v1/models/naive_model:predict',\n",
      "            'healthRoute': '',\n",
      "        },\n",
      "        'artifactUri': '',\n",
      "        'supportedDeploymentResourcesTypes': [],\n",
      "        'supportedInputStorageFormats': [],\n",
      "        'supportedOutputStorageFormats': [],\n",
      "        'deployedModels': [],\n",
      "        'etag': '',\n",
      "        'labels': {},\n",
      "        'createTime': '2022-08-19T08:51:35.495882Z',\n",
      "        'updateTime': '2022-08-19T08:51:35.495882Z',\n",
      "    },\n",
      "    'state': 'PIPELINE_STATE_SUCCEEDED',\n",
      "    'labels': {},\n",
      "    'createTime': '2022-08-19T08:51:35.495856Z',\n",
      "    'startTime': '2022-08-19T08:51:37Z',\n",
      "    'endTime': '2022-08-19T08:51:41Z',\n",
      "    'updateTime': '2022-08-19T08:51:42.804320Z',\n",
      "}\n"
     ]
    }
   ],
   "source": [
    "import requests\n",
    "from devtools import pprint\n",
    "\n",
    "url = f\"{HOST}/v1/{TRAINING_PIPELINE_NAME}\"\n",
    "\n",
    "payload = {}\n",
    "headers = {}\n",
    "\n",
    "response = requests.request(\"GET\", url, headers=headers, data=payload)\n",
    "\n",
    "pprint(response.json()[\"state\"])\n",
    "pprint(response.json())"
   ]
  },
  {
   "cell_type": "markdown",
   "metadata": {
    "collapsed": false,
    "pycharm": {
     "name": "#%% md\n"
    }
   },
   "source": [
    "## 获取「模型」的「名字」"
   ]
  },
  {
   "cell_type": "code",
   "execution_count": 52,
   "metadata": {
    "collapsed": false,
    "pycharm": {
     "name": "#%%\n"
    }
   },
   "outputs": [
    {
     "data": {
      "text/plain": [
       "'projects/tokyo-rain-42/locations/default/models/750e6e67-526c-44a3-b173-05ea95a9cc43'"
      ]
     },
     "execution_count": 52,
     "metadata": {},
     "output_type": "execute_result"
    }
   ],
   "source": [
    "MODEL_NAME = response.json()[\"modelToUpload\"][\"name\"]\n",
    "MODEL_NAME"
   ]
  },
  {
   "cell_type": "code",
   "execution_count": null,
   "metadata": {
    "collapsed": false,
    "pycharm": {
     "name": "#%%\n"
    }
   },
   "outputs": [],
   "source": []
  }
 ],
 "metadata": {
  "kernelspec": {
   "display_name": "Python 3",
   "language": "python",
   "name": "python3"
  },
  "language_info": {
   "codemirror_mode": {
    "name": "ipython",
    "version": 2
   },
   "file_extension": ".py",
   "mimetype": "text/x-python",
   "name": "python",
   "nbconvert_exporter": "python",
   "pygments_lexer": "ipython2",
   "version": "2.7.6"
  }
 },
 "nbformat": 4,
 "nbformat_minor": 0
}
