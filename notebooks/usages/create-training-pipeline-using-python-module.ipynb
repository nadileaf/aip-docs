{
 "cells": [
  {
   "cell_type": "markdown",
   "metadata": {
    "collapsed": false,
    "pycharm": {
     "name": "#%% md\n"
    }
   },
   "source": [
    "# 创建训练流水线（Python 模块版本）\n",
    "\n",
    "## 导语\n",
    "\n",
    "此笔记旨在创建一个训练流水线，以便我们可以训练一个模型。"
   ]
  },
  {
   "cell_type": "code",
   "execution_count": 1,
   "metadata": {
    "collapsed": false,
    "pycharm": {
     "name": "#%%\n"
    }
   },
   "outputs": [],
   "source": [
    "HOST = \"https://aip-apis.nadileaf.com\"\n",
    "PROJECT_ID = \"tokyo-rain-42\"\n",
    "LOCATION = \"default\""
   ]
  },
  {
   "cell_type": "markdown",
   "metadata": {
    "collapsed": false,
    "pycharm": {
     "name": "#%% md\n"
    }
   },
   "source": [
    "## 编写训练代码\n",
    "\n",
    "本实例中，我们使用 `/tmp/aip` 作为项目的根目录，并在其中创建一个叫 `create-training-pipeline` 的模块。\n",
    "模块内部包含一个 `aip_task.py` 文件，作为我们的程序入口。\n",
    "所以目录结构的示意如下：\n",
    "```\n",
    ".                            # 项目的根目录\n",
    "├── ...\n",
    "├── create-training-pipeline # 模块的根目录\n",
    "│   ├── __init__.py          # 标记此文件夹是一个 Python 模块\n",
    "│   └── aip_task.py          # 期望的程序入口\n",
    "└── ...\n",
    "```\n",
    "\n",
    "所以我们先来创建项目和模块："
   ]
  },
  {
   "cell_type": "code",
   "execution_count": 10,
   "metadata": {
    "collapsed": false,
    "pycharm": {
     "name": "#%%\n"
    }
   },
   "outputs": [],
   "source": [
    "! mkdir -p /tmp/aip/create-training-pipeline\n",
    "! touch /tmp/aip/create-training-pipeline/__init__.py"
   ]
  },
  {
   "cell_type": "markdown",
   "metadata": {
    "collapsed": false,
    "pycharm": {
     "name": "#%% md\n"
    }
   },
   "source": [
    "训练代码中，`AIP_MODEL_DIR` 是必要的环境变量，由用户产出模型，平台负责管理。\n",
    "\n",
    "使用魔术命令 `%%writefile` 将训练代码写入 `/tmp/aip/create-train-pipeline/aip_task.py` 文件中。"
   ]
  },
  {
   "cell_type": "code",
   "execution_count": 21,
   "metadata": {
    "collapsed": false,
    "pycharm": {
     "name": "#%%\n"
    }
   },
   "outputs": [
    {
     "name": "stdout",
     "output_type": "stream",
     "text": [
      "Overwriting /tmp/aip/create-training-pipeline/aip_task.py\n"
     ]
    }
   ],
   "source": [
    "%%writefile /tmp/aip/create-training-pipeline/aip_task.py\n",
    "\n",
    "import numpy as np\n",
    "from tensorflow import keras\n",
    "\n",
    "\n",
    "def get_args():\n",
    "    import os\n",
    "    import argparse\n",
    "\n",
    "    parser = argparse.ArgumentParser()\n",
    "    parser.add_argument(\n",
    "        \"--model-dir\",\n",
    "        dest=\"model_dir\",\n",
    "        default=os.getenv(\"AIP_MODEL_DIR\"),\n",
    "        type=str,\n",
    "        help=\"Model dir.\",\n",
    "    )\n",
    "    parser.add_argument(\n",
    "        \"--test-arg\",\n",
    "        dest=\"test_arg\",\n",
    "        type=str,\n",
    "        help=\"Test arg.\",\n",
    "    )\n",
    "    parser.add_argument(\n",
    "        \"--test-env\",\n",
    "        dest=\"test_env\",\n",
    "        default=os.getenv(\"TEST_ENV\"),\n",
    "        type=str,\n",
    "        help=\"Test env.\",\n",
    "    )\n",
    "    return parser.parse_args()\n",
    "\n",
    "\n",
    "args = get_args()\n",
    "\n",
    "# Print debug info.\n",
    "print(\"test_arg\", args.test_arg)\n",
    "print(\"test_env\", args.test_env)\n",
    "\n",
    "def get_model():\n",
    "    # Create a simple model.\n",
    "    inputs = keras.Input(shape=(32,))\n",
    "    outputs = keras.layers.Dense(1)(inputs)\n",
    "    model = keras.Model(inputs, outputs)\n",
    "    model.compile(optimizer=\"adam\", loss=\"mean_squared_error\")\n",
    "    return model\n",
    "\n",
    "\n",
    "model = get_model()\n",
    "\n",
    "# Train the model.\n",
    "test_input = np.random.random((128, 32))\n",
    "test_target = np.random.random((128, 1))\n",
    "model.fit(test_input, test_target)\n",
    "\n",
    "\n",
    "def s3_save_keras_model(model, model_name, version=\"1\"):\n",
    "    import re\n",
    "    import tempfile\n",
    "    import boto3\n",
    "    from pathlib import Path\n",
    "\n",
    "    with tempfile.TemporaryDirectory() as tempdir:\n",
    "        print(f\"Saving model to {tempdir}\")\n",
    "\n",
    "        local_model_dir = Path(tempdir, model_name, version)\n",
    "        model.save(local_model_dir, save_format=\"tf\")\n",
    "\n",
    "        client = boto3.client(\"s3\")\n",
    "        bucket_name, key_prefix = re.match(\"s3://([^/]+)/(.*)\", args.model_dir).groups()\n",
    "        if not key_prefix.endswith(\"/\"):\n",
    "            key_prefix += \"/\"\n",
    "\n",
    "        local_dir = Path(tempdir)\n",
    "        for item in local_dir.rglob(\"*\"):\n",
    "            if not item.is_file():\n",
    "                continue\n",
    "            relative = item.relative_to(local_dir)\n",
    "            key_suffix = str(relative)\n",
    "            key = key_prefix + key_suffix\n",
    "            print(f\"Uploading {item} to {key}\")\n",
    "            client.upload_file(\n",
    "                Filename=str(item.absolute()),\n",
    "                Bucket=bucket_name,\n",
    "                Key=key,\n",
    "            )\n",
    "\n",
    "\n",
    "# Calling `save('my_model')` creates a SavedModel folder `my_model`.\n",
    "s3_save_keras_model(model, \"naive_model\")"
   ]
  },
  {
   "cell_type": "markdown",
   "metadata": {
    "collapsed": false,
    "pycharm": {
     "name": "#%% md\n"
    }
   },
   "source": [
    "## 打包训练代码\n"
   ]
  },
  {
   "cell_type": "code",
   "execution_count": 22,
   "metadata": {
    "collapsed": false,
    "pycharm": {
     "name": "#%%\n"
    }
   },
   "outputs": [
    {
     "name": "stdout",
     "output_type": "stream",
     "text": [
      "a create-training-pipeline\r\n",
      "a create-training-pipeline/aip_task.py\r\n",
      "a create-training-pipeline/__init__.py\r\n",
      "upload: ../../../../../../../../tmp/aip/create-training-pipeline.tar.gz to s3://aip-demo/usages/create-training-pipeline.tar.gz\r\n"
     ]
    }
   ],
   "source": [
    "! rm -f /tmp/aip/create-training-pipeline.tar.gz\n",
    "! tar -zcvf /tmp/aip/create-training-pipeline.tar.gz -C /tmp/aip/ create-training-pipeline/\n",
    "! aws s3 cp /tmp/aip/create-training-pipeline.tar.gz s3://aip-demo/usages/create-training-pipeline.tar.gz"
   ]
  },
  {
   "cell_type": "markdown",
   "metadata": {
    "collapsed": false,
    "pycharm": {
     "name": "#%% md\n"
    }
   },
   "source": [
    "## 发起「创建训练流水线」请求\n",
    "\n",
    "我们使用 `IMAGE_URL` 作为容器映像的 URL，并执行 `PYTHON_PACKAGE_URI` 包内的 `PYTHON_MODULE_NAME` 模块。"
   ]
  },
  {
   "cell_type": "code",
   "execution_count": 23,
   "metadata": {
    "collapsed": false,
    "pycharm": {
     "name": "#%%\n"
    }
   },
   "outputs": [
    {
     "data": {
      "text/plain": [
       "'create-train-pipeline_20220825120005'"
      ]
     },
     "execution_count": 23,
     "metadata": {},
     "output_type": "execute_result"
    }
   ],
   "source": [
    "from datetime import datetime\n",
    "\n",
    "MACHINE_TYPE = \"TBD\"\n",
    "ACCELERATOR_TYPE = \"ACCELERATOR_TYPE_UNSPECIFIED\"\n",
    "ACCELERATOR_COUNT = 0  # number of GPUs\n",
    "\n",
    "IMAGE_URL = \"harbor.nadileaf.com/aip-images/create-training-image:0.1.1\"\n",
    "PYTHON_PACKAGE_URI = \"s3://aip-demo/usages/create-training-pipeline.tar.gz\"\n",
    "PYTHON_MODULE_NAME = \"create-training-pipeline.aip_task\"\n",
    "PYTHON_ARGS = [\"--test-arg\", \"TEST_ARG_VALUE\"]\n",
    "PYTHON_ENVS = [{\"name\": \"TEST_ENV\", \"value\": \"TEST_ENV_VALUE\"}]\n",
    "\n",
    "TIMESTAMP = datetime.now().strftime(\"%Y%m%d%H%M%S\")\n",
    "DISPLAY_NAME = \"create-train-pipeline_\" + TIMESTAMP\n",
    "\n",
    "DISPLAY_NAME"
   ]
  },
  {
   "cell_type": "code",
   "execution_count": 24,
   "metadata": {
    "collapsed": false,
    "pycharm": {
     "name": "#%%\n"
    }
   },
   "outputs": [
    {
     "name": "stdout",
     "output_type": "stream",
     "text": [
      "{\n",
      "    'name': 'projects/tokyo-rain-42/locations/default/trainingPipelines/60c37620-b5fa-474b-a32b-738c38b4473a',\n",
      "    'displayName': 'create-train-pipeline_20220825120005',\n",
      "    'trainingTaskDefinition': 's3://aip/schema/trainingjob/definition/custom_task_1.0.0.yaml',\n",
      "    'trainingTaskInputs': {\n",
      "        'workerPoolSpecs': [\n",
      "            {\n",
      "                'machineSpec': {\n",
      "                    'machineType': 'TBD',\n",
      "                    'acceleratorType': 'ACCELERATOR_TYPE_UNSPECIFIED',\n",
      "                    'acceleratorCount': 0,\n",
      "                },\n",
      "                'pythonPackageSpec': {\n",
      "                    'executorImageUri': 'harbor.nadileaf.com/aip-images/create-training-image:0.1.1',\n",
      "                    'packageUris': [\n",
      "                        's3://aip-demo/usages/create-training-pipeline.tar.gz',\n",
      "                    ],\n",
      "                    'pythonModule': 'create-training-pipeline.aip_task',\n",
      "                    'args': [\n",
      "                        '--test-arg',\n",
      "                        'TEST_ARG_VALUE',\n",
      "                    ],\n",
      "                    'env': [\n",
      "                        {\n",
      "                            'name': 'TEST_ENV',\n",
      "                            'value': 'TEST_ENV_VALUE',\n",
      "                        },\n",
      "                    ],\n",
      "                },\n",
      "            },\n",
      "        ],\n",
      "    },\n",
      "    'modelToUpload': {\n",
      "        'name': '',\n",
      "        'displayName': 'create-train-pipeline_20220825120005',\n",
      "        'description': '',\n",
      "        'metadataSchemaUri': '',\n",
      "        'supportedExportFormats': [],\n",
      "        'trainingPipeline': 'projects/tokyo-rain-42/locations/default/trainingPipelines/60c37620-b5fa-474b-a32b-738c38b4473a',\n",
      "        'containerSpec': {\n",
      "            'imageUri': 'tensorflow/serving:latest',\n",
      "            'command': [],\n",
      "            'args': [],\n",
      "            'env': [\n",
      "                {\n",
      "                    'name': 'MODEL_BASE_PATH',\n",
      "                    'value': '/app',\n",
      "                },\n",
      "                {\n",
      "                    'name': 'MODEL_NAME',\n",
      "                    'value': 'naive_model',\n",
      "                },\n",
      "            ],\n",
      "            'ports': [\n",
      "                {\n",
      "                    'containerPort': 8501,\n",
      "                },\n",
      "            ],\n",
      "            'predictRoute': '/v1/models/naive_model:predict',\n",
      "            'healthRoute': '',\n",
      "        },\n",
      "        'artifactUri': '',\n",
      "        'supportedDeploymentResourcesTypes': [],\n",
      "        'supportedInputStorageFormats': [],\n",
      "        'supportedOutputStorageFormats': [],\n",
      "        'deployedModels': [],\n",
      "        'etag': '',\n",
      "        'labels': {},\n",
      "        'createTime': '2022-08-25T04:00:06.519839Z',\n",
      "        'updateTime': '2022-08-25T04:00:06.519839Z',\n",
      "    },\n",
      "    'state': 'PIPELINE_STATE_QUEUED',\n",
      "    'labels': {},\n",
      "    'createTime': '2022-08-25T04:00:06.519816Z',\n",
      "    'updateTime': '2022-08-25T04:00:06.519816Z',\n",
      "}\n"
     ]
    }
   ],
   "source": [
    "from devtools import pprint\n",
    "import requests\n",
    "import json\n",
    "\n",
    "url = f\"{HOST}/v1/projects/{PROJECT_ID}/locations/{LOCATION}/trainingPipelines\"\n",
    "\n",
    "payload = json.dumps(\n",
    "    {\n",
    "        \"displayName\": DISPLAY_NAME,\n",
    "        \"trainingTaskDefinition\": \"s3://aip/schema/trainingjob/definition/custom_task_1.0.0.yaml\",\n",
    "        \"trainingTaskInputs\": {\n",
    "            \"workerPoolSpecs\": [\n",
    "                {\n",
    "                    \"machineSpec\": {\n",
    "                        \"machineType\": MACHINE_TYPE,\n",
    "                        \"acceleratorType\": ACCELERATOR_TYPE,\n",
    "                        \"acceleratorCount\": ACCELERATOR_COUNT,\n",
    "                    },\n",
    "                    \"pythonPackageSpec\": {\n",
    "                        \"executorImageUri\": IMAGE_URL,\n",
    "                        \"packageUris\": [PYTHON_PACKAGE_URI],\n",
    "                        \"pythonModule\": PYTHON_MODULE_NAME,\n",
    "                        \"args\": PYTHON_ARGS,\n",
    "                        \"env\": PYTHON_ENVS,\n",
    "                    },\n",
    "                }\n",
    "            ]\n",
    "        },\n",
    "        \"modelToUpload\": {\n",
    "            \"displayName\": DISPLAY_NAME,\n",
    "            \"predictSchemata\": {},\n",
    "            \"containerSpec\": {\n",
    "                \"imageUri\": \"tensorflow/serving:latest\",\n",
    "                \"ports\": [{\"containerPort\": 8501}],\n",
    "                \"env\": [\n",
    "                    {\"name\": \"MODEL_BASE_PATH\", \"value\": \"/app\"},\n",
    "                    {\"name\": \"MODEL_NAME\", \"value\": \"naive_model\"},\n",
    "                ],\n",
    "                \"predictRoute\": \"/v1/models/naive_model:predict\",\n",
    "            },\n",
    "        },\n",
    "    }\n",
    ")\n",
    "headers = {\"Content-Type\": \"application/json\"}\n",
    "\n",
    "response = requests.request(\"POST\", url, headers=headers, data=payload)\n",
    "\n",
    "pprint(response.json())"
   ]
  },
  {
   "cell_type": "markdown",
   "metadata": {
    "collapsed": false,
    "pycharm": {
     "name": "#%% md\n"
    }
   },
   "source": [
    "## 获取「训练流水线」的「名字」"
   ]
  },
  {
   "cell_type": "code",
   "execution_count": 25,
   "metadata": {
    "collapsed": false,
    "pycharm": {
     "name": "#%%\n"
    }
   },
   "outputs": [
    {
     "data": {
      "text/plain": [
       "'projects/tokyo-rain-42/locations/default/trainingPipelines/60c37620-b5fa-474b-a32b-738c38b4473a'"
      ]
     },
     "execution_count": 25,
     "metadata": {},
     "output_type": "execute_result"
    }
   ],
   "source": [
    "TRAINING_PIPELINE_NAME = response.json()[\"name\"]\n",
    "TRAINING_PIPELINE_NAME"
   ]
  },
  {
   "cell_type": "markdown",
   "metadata": {
    "collapsed": false,
    "pycharm": {
     "name": "#%% md\n"
    }
   },
   "source": [
    "## 查询「训练流水线」的「状态」\n",
    "\n",
    "直到 `state` 字段为 `PIPELINE_STATE_SUCCEEDED`，才能获取到模型的名字。"
   ]
  },
  {
   "cell_type": "code",
   "execution_count": 29,
   "metadata": {
    "collapsed": false,
    "pycharm": {
     "name": "#%%\n"
    }
   },
   "outputs": [
    {
     "name": "stdout",
     "output_type": "stream",
     "text": [
      "'PIPELINE_STATE_SUCCEEDED'\n",
      "{\n",
      "    'name': 'projects/tokyo-rain-42/locations/default/trainingPipelines/60c37620-b5fa-474b-a32b-738c38b4473a',\n",
      "    'displayName': 'create-train-pipeline_20220825120005',\n",
      "    'trainingTaskDefinition': 's3://aip/schema/trainingjob/definition/custom_task_1.0.0.yaml',\n",
      "    'trainingTaskInputs': {\n",
      "        'workerPoolSpecs': [\n",
      "            {\n",
      "                'machineSpec': {\n",
      "                    'machineType': 'TBD',\n",
      "                    'acceleratorType': 'ACCELERATOR_TYPE_UNSPECIFIED',\n",
      "                    'acceleratorCount': 0,\n",
      "                },\n",
      "                'pythonPackageSpec': {\n",
      "                    'env': [\n",
      "                        {\n",
      "                            'name': 'TEST_ENV',\n",
      "                            'value': 'TEST_ENV_VALUE',\n",
      "                        },\n",
      "                    ],\n",
      "                    'args': [\n",
      "                        '--test-arg',\n",
      "                        'TEST_ARG_VALUE',\n",
      "                    ],\n",
      "                    'packageUris': [\n",
      "                        's3://aip-demo/usages/create-training-pipeline.tar.gz',\n",
      "                    ],\n",
      "                    'pythonModule': 'create-training-pipeline.aip_task',\n",
      "                    'executorImageUri': 'harbor.nadileaf.com/aip-images/create-training-image:0.1.1',\n",
      "                },\n",
      "            },\n",
      "        ],\n",
      "    },\n",
      "    'modelToUpload': {\n",
      "        'name': 'projects/tokyo-rain-42/locations/default/models/e64ddd15-e2ae-4c69-bd7e-f71baf220adc',\n",
      "        'displayName': 'create-train-pipeline_20220825120005',\n",
      "        'description': '',\n",
      "        'metadataSchemaUri': '',\n",
      "        'supportedExportFormats': [],\n",
      "        'trainingPipeline': 'projects/tokyo-rain-42/locations/default/trainingPipelines/60c37620-b5fa-474b-a32b-738c38b4473a',\n",
      "        'containerSpec': {\n",
      "            'imageUri': 'tensorflow/serving:latest',\n",
      "            'command': [],\n",
      "            'args': [],\n",
      "            'env': [\n",
      "                {\n",
      "                    'name': 'MODEL_BASE_PATH',\n",
      "                    'value': '/app',\n",
      "                },\n",
      "                {\n",
      "                    'name': 'MODEL_NAME',\n",
      "                    'value': 'naive_model',\n",
      "                },\n",
      "            ],\n",
      "            'ports': [\n",
      "                {\n",
      "                    'containerPort': 8501,\n",
      "                },\n",
      "            ],\n",
      "            'predictRoute': '/v1/models/naive_model:predict',\n",
      "            'healthRoute': '',\n",
      "        },\n",
      "        'artifactUri': '',\n",
      "        'supportedDeploymentResourcesTypes': [],\n",
      "        'supportedInputStorageFormats': [],\n",
      "        'supportedOutputStorageFormats': [],\n",
      "        'deployedModels': [],\n",
      "        'etag': '',\n",
      "        'labels': {},\n",
      "        'createTime': '2022-08-25T04:00:06.519839Z',\n",
      "        'updateTime': '2022-08-25T04:00:06.519839Z',\n",
      "    },\n",
      "    'state': 'PIPELINE_STATE_SUCCEEDED',\n",
      "    'labels': {},\n",
      "    'createTime': '2022-08-25T04:00:06.519816Z',\n",
      "    'startTime': '2022-08-25T04:00:07Z',\n",
      "    'endTime': '2022-08-25T04:00:15Z',\n",
      "    'updateTime': '2022-08-25T04:00:17.113786Z',\n",
      "}\n"
     ]
    }
   ],
   "source": [
    "import requests\n",
    "from devtools import pprint\n",
    "\n",
    "url = f\"{HOST}/v1/{TRAINING_PIPELINE_NAME}\"\n",
    "\n",
    "payload = {}\n",
    "headers = {}\n",
    "\n",
    "response = requests.request(\"GET\", url, headers=headers, data=payload)\n",
    "\n",
    "pprint(response.json()[\"state\"])\n",
    "pprint(response.json())"
   ]
  },
  {
   "cell_type": "markdown",
   "metadata": {
    "collapsed": false,
    "pycharm": {
     "name": "#%% md\n"
    }
   },
   "source": [
    "## 获取「模型」的「名字」"
   ]
  },
  {
   "cell_type": "code",
   "execution_count": 30,
   "metadata": {
    "collapsed": false,
    "pycharm": {
     "name": "#%%\n"
    }
   },
   "outputs": [
    {
     "data": {
      "text/plain": [
       "'projects/tokyo-rain-42/locations/default/models/e64ddd15-e2ae-4c69-bd7e-f71baf220adc'"
      ]
     },
     "execution_count": 30,
     "metadata": {},
     "output_type": "execute_result"
    }
   ],
   "source": [
    "MODEL_NAME = response.json()[\"modelToUpload\"][\"name\"]\n",
    "MODEL_NAME"
   ]
  },
  {
   "cell_type": "code",
   "execution_count": null,
   "metadata": {
    "collapsed": false,
    "pycharm": {
     "name": "#%%\n"
    }
   },
   "outputs": [],
   "source": []
  }
 ],
 "metadata": {
  "kernelspec": {
   "display_name": "Python 3",
   "language": "python",
   "name": "python3"
  },
  "language_info": {
   "codemirror_mode": {
    "name": "ipython",
    "version": 2
   },
   "file_extension": ".py",
   "mimetype": "text/x-python",
   "name": "python",
   "nbconvert_exporter": "python",
   "pygments_lexer": "ipython2",
   "version": "2.7.6"
  }
 },
 "nbformat": 4,
 "nbformat_minor": 0
}
